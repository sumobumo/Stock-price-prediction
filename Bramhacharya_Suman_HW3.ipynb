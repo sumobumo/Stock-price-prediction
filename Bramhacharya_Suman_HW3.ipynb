{
  "nbformat": 4,
  "nbformat_minor": 0,
  "metadata": {
    "kernelspec": {
      "display_name": "Python 3",
      "language": "python",
      "name": "python3"
    },
    "language_info": {
      "codemirror_mode": {
        "name": "ipython",
        "version": 3
      },
      "file_extension": ".py",
      "mimetype": "text/x-python",
      "name": "python",
      "nbconvert_exporter": "python",
      "pygments_lexer": "ipython3",
      "version": "3.7.3"
    },
    "colab": {
      "name": "Bramhacharya_Suman_HW3.ipynb",
      "provenance": [],
      "collapsed_sections": []
    }
  },
  "cells": [
    {
      "cell_type": "markdown",
      "metadata": {
        "id": "CCSqxIaaQQTP"
      },
      "source": [
        "# MSBA 446 - Homework 3\n",
        "\n",
        "## Predicting Stock Price using RNNs"
      ]
    },
    {
      "cell_type": "markdown",
      "metadata": {
        "id": "O8QzZuxNwJsb"
      },
      "source": [
        "In this homework assignment, your task is to develop recurrent neural network models to predict the stock price of a company of your choice. The goal is to use stock price data (open, high, low, and close data) from the prior 60 days to predict the close price of the stock in 5 days.  \n",
        "\n",
        "First, follow the steps below to download ~15 years of historical data on the stock price of your favorite company. \n",
        "\n",
        "1. Go to [Yahoo Finance](https://finance.yahoo.com/).\n",
        "2. Enter a stock symbol into the search field (e.g., AAPL for Apple).\n",
        "3. Select it in the search results to view it.\n",
        "4. Click Historical Data.\n",
        "5. For the Time Period, please enter 01.01.2005 to 09.22.2020.\n",
        "6. Make sure the Frequency is Daily.\n",
        "6. Click Apply.\n",
        "7. Click Download.\n",
        "\n",
        "For this assignment, you are free to choose any company you like as long as it has 15 years of data (from 01.01.2005 to 09.22.2020). Examples of such companies include: Apple (AAPL), Google (GOOG), Amazon (AMZN), Nvidia (NVDA), Intel (INTC), Microsoft (MSFT), Adobe (ADBE), Netflix (NFLX), etc. You can also choose an ETF, such as the S&P 500 ETF (SPY).  \n"
      ]
    },
    {
      "cell_type": "markdown",
      "metadata": {
        "id": "koKclVOfyB-8"
      },
      "source": [
        "After you downloaded the historical stock data for a company of your choice, open the `.csv` file with Excel. You should be able to see seven columns: Date, Open, High, Low, Close, Adj Close, Volume.\n",
        "\n",
        "You should also have 3958 rows in your dataset. The first row contains the headers, and the remaining 3957 rows contain daily stock prices. Note that stock prices are recorded on business days only (not weekends), so the first data point corresponds to 1.3.2005. \n",
        "\n",
        "If everything looks good, close your Excel file and upload the `.csv` file on your Google Drive, so you can easily import it to your Colab Notebook."
      ]
    },
    {
      "cell_type": "markdown",
      "metadata": {
        "id": "quG66dGDwJsc"
      },
      "source": [
        "## Importing the dataset\n",
        "\n",
        "Mount your drive using the code below."
      ]
    },
    {
      "cell_type": "code",
      "metadata": {
        "id": "txcag5bdwUig",
        "colab": {
          "base_uri": "https://localhost:8080/",
          "height": 34
        },
        "outputId": "e5be1f89-ab01-4a73-9798-ac8029551bb8"
      },
      "source": [
        "# Mount the drive\n",
        "from google.colab import drive\n",
        "drive.mount('/content/drive', force_remount=True)\n",
        "\n",
        "# The first time that you run this cell, you will need to authorize access in your drive. \n",
        "# Go to the link and copy the authorization code"
      ],
      "execution_count": null,
      "outputs": [
        {
          "output_type": "stream",
          "text": [
            "Mounted at /content/drive\n"
          ],
          "name": "stdout"
        }
      ]
    },
    {
      "cell_type": "markdown",
      "metadata": {
        "id": "rWdANnMBSgD0"
      },
      "source": [
        "Replace the directory below with the path where your dataset is located. "
      ]
    },
    {
      "cell_type": "code",
      "metadata": {
        "id": "xQuzCF3zwVD_"
      },
      "source": [
        "# Define the directory where your \".csv\" file resides on your google drive\n",
        "# My path is the following (your path will be different): \n",
        "fname = '/content/drive/My Drive/Third Sem/MSBA 446: Machine Learning & Artificial Intelligence in Business Analytics/Homework/HW3/Data/NFLX.csv'\n",
        "\n"
      ],
      "execution_count": null,
      "outputs": []
    },
    {
      "cell_type": "markdown",
      "metadata": {
        "id": "rNXmdk5gU3IP"
      },
      "source": [
        "Run the code block below to read the data and seperate header from numeric data lines."
      ]
    },
    {
      "cell_type": "code",
      "metadata": {
        "scrolled": true,
        "id": "-6mhbwq7wJsd",
        "colab": {
          "base_uri": "https://localhost:8080/",
          "height": 51
        },
        "outputId": "7205ff6e-189b-48ab-e7c1-5347a4ac846c"
      },
      "source": [
        "f = open(fname)\n",
        "data = f.read()\n",
        "f.close()\n",
        "\n",
        "data_lines = data.split('\\n')     # Each line is 1 recording\n",
        "header = data_lines[0].split(',') # Variable names are separated by commas\n",
        "lines = data_lines[1:3958]        # Drop first line (it's a header)\n",
        "\n",
        "print(header)\n",
        "print(len(lines))"
      ],
      "execution_count": null,
      "outputs": [
        {
          "output_type": "stream",
          "text": [
            "['Date', 'Open', 'High', 'Low', 'Close', 'Adj Close', 'Volume']\n",
            "3957\n"
          ],
          "name": "stdout"
        }
      ]
    },
    {
      "cell_type": "markdown",
      "metadata": {
        "id": "F_A2fLd4wJsf"
      },
      "source": [
        "Let's convert all of these 3,957 lines of data into a Numpy array:"
      ]
    },
    {
      "cell_type": "code",
      "metadata": {
        "id": "mqJSObrnwJsg",
        "colab": {
          "base_uri": "https://localhost:8080/",
          "height": 34
        },
        "outputId": "e76e8625-026e-4629-eff2-eca8c4dfe5c0"
      },
      "source": [
        "import numpy as np\n",
        "\n",
        "float_data = np.zeros((len(lines), 4))\n",
        "for i, line in enumerate(lines):\n",
        "    values = [float(x) for x in line.split(',')[1:5]]\n",
        "    float_data[i, :] = values\n",
        "print(float_data.shape)\n",
        "# Note that we only keep the following 4 columns: Open, High, Low, Close"
      ],
      "execution_count": null,
      "outputs": [
        {
          "output_type": "stream",
          "text": [
            "(3957, 4)\n"
          ],
          "name": "stdout"
        }
      ]
    },
    {
      "cell_type": "markdown",
      "metadata": {
        "id": "bJNKW8tAwJsj"
      },
      "source": [
        "You can plot the daily closing price of your stock over time as follows. **Note that the closing price is Column 3 in your dataset (columns are indexed 0, 1, 2, and 3). The dataset is named `float_data`.**"
      ]
    },
    {
      "cell_type": "code",
      "metadata": {
        "id": "Rn5bpjbXwJsj",
        "colab": {
          "base_uri": "https://localhost:8080/",
          "height": 282
        },
        "outputId": "dfb72a90-96d1-4acf-ac42-be8780f46515"
      },
      "source": [
        "from matplotlib import pyplot as plt\n",
        "\n",
        "close = float_data[:, 3]  # index 3 is close price\n",
        "plt.plot(range(len(close)), close)"
      ],
      "execution_count": null,
      "outputs": [
        {
          "output_type": "execute_result",
          "data": {
            "text/plain": [
              "[<matplotlib.lines.Line2D at 0x7fb5e85da860>]"
            ]
          },
          "metadata": {
            "tags": []
          },
          "execution_count": 6
        },
        {
          "output_type": "display_data",
          "data": {
            "image/png": "[encoded data removed]",
            "text/plain": [
              "<Figure size 432x288 with 1 Axes>"
            ]
          },
          "metadata": {
            "tags": [],
            "needs_background": "light"
          }
        }
      ]
    },
    {
      "cell_type": "markdown",
      "metadata": {
        "id": "njBvZMjb4IN9"
      },
      "source": [
        "## Input normalization\n",
        "\n",
        "Since the stock price data (Open, High, Low, Close) are positive numbers, we can divide each column by it's maximum value to make the values between 0 and 1. "
      ]
    },
    {
      "cell_type": "code",
      "metadata": {
        "id": "ZRlXWORR2NSm"
      },
      "source": [
        "float_data /= float_data.max(axis=0)"
      ],
      "execution_count": null,
      "outputs": []
    },
    {
      "cell_type": "code",
      "metadata": {
        "id": "QHGkE5ypM2-L",
        "colab": {
          "base_uri": "https://localhost:8080/",
          "height": 282
        },
        "outputId": "495c34d8-b703-489d-e499-6e31c838ae82"
      },
      "source": [
        "\n",
        "close1 = float_data[:, 3]  # index 3 is close price\n",
        "plt.plot(range(len(close1)), close1)"
      ],
      "execution_count": null,
      "outputs": [
        {
          "output_type": "execute_result",
          "data": {
            "text/plain": [
              "[<matplotlib.lines.Line2D at 0x7fb5e809bef0>]"
            ]
          },
          "metadata": {
            "tags": []
          },
          "execution_count": 8
        },
        {
          "output_type": "display_data",
          "data": {
            "image/png": "[encoded data removed]",
            "text/plain": [
              "<Figure size 432x288 with 1 Axes>"
            ]
          },
          "metadata": {
            "tags": [],
            "needs_background": "light"
          }
        }
      ]
    },
    {
      "cell_type": "code",
      "metadata": {
        "id": "q_rAWQ1Sg5xr",
        "colab": {
          "base_uri": "https://localhost:8080/",
          "height": 136
        },
        "outputId": "2532ac4a-295e-4445-a6c0-fae15a16f843"
      },
      "source": [
        "float_data # ['Open', 'High', 'Low', 'Close']"
      ],
      "execution_count": null,
      "outputs": [
        {
          "output_type": "execute_result",
          "data": {
            "text/plain": [
              "array([[0.00316913, 0.00312842, 0.00306253, 0.00305967],\n",
              "       [0.00299809, 0.00296704, 0.00299076, 0.00299293],\n",
              "       [0.00295282, 0.00291489, 0.00294822, 0.00287485],\n",
              "       ...,\n",
              "       [0.83657879, 0.83146497, 0.86210617, 0.84484776],\n",
              "       [0.83191314, 0.83320298, 0.85341573, 0.8444165 ],\n",
              "       [0.82342691, 0.84776753, 0.867782  , 0.87566259]])"
            ]
          },
          "metadata": {
            "tags": []
          },
          "execution_count": 13
        }
      ]
    },
    {
      "cell_type": "markdown",
      "metadata": {
        "id": "nZXighcIwJsq"
      },
      "source": [
        "## Data generator\n",
        "\n",
        "Similar to the Temperature Forecasting Example, we will need a data generator to automatically create batches of training, validation, and test data. We can use the same data generator function here (I copied it below).\n",
        "\n",
        "The exact formulation of our problem is the following: given stock price data going as far back as `lookback` timesteps (a timestep is 1 day) and sampled every `steps` timesteps, can we predict the stock price in `delay` timesteps? In other words, given stock price data (Open, High, Low, Close) of the past 60 days, sampled every day, we aim to predict the close price in 5 days.\n",
        "\n",
        "We have 3957 days worth of stock data. Please use the first 2000 days as training data, the next 1000 days as validation data, and the remaining days as test data. Please use `batch_size` of 64. "
      ]
    },
    {
      "cell_type": "code",
      "metadata": {
        "id": "YVhY76vxwJsu"
      },
      "source": [
        "import numpy as np\n",
        " \n",
        "def generator(data, lookback, delay, min_index, max_index, shuffle, batch_size, step, target_index):\n",
        "    if max_index is None:\n",
        "        max_index = len(data) - delay - 1\n",
        "    i = min_index + lookback\n",
        "    # Out dara generator will generate data indefinitely, so we will have to tell Keras\n",
        "    # how many batches constitute an epoch ('steps_per_epoch' and 'validation_steps' in model.fit)\n",
        "    while 1:\n",
        "        # For the training set (shuffle=True), randomly choose points in time\n",
        "        if shuffle:\n",
        "            rows = np.random.randint(\n",
        "                min_index + lookback, max_index, size=batch_size)\n",
        "        # For the validation and test sets, choose batches of timesteps (in chronological order)\n",
        "        else:\n",
        "            if i + batch_size >= max_index:\n",
        "                i = min_index + lookback\n",
        "            rows = np.arange(i, min(i + batch_size, max_index))\n",
        "            i += len(rows)\n",
        "\n",
        "        samples = np.zeros((len(rows),       # Batch size\n",
        "                           lookback // step, # Floor division (e.g., 5//2=2)\n",
        "                           data.shape[-1]))  # Number of columns in data\n",
        "        targets = np.zeros((len(rows),))\n",
        "        for j, row in enumerate(rows):\n",
        "            indices = range(rows[j] - lookback, rows[j], step)\n",
        "            samples[j] = data[indices]\n",
        "            targets[j] = data[rows[j] + delay][target_index]\n",
        "        yield samples, targets"
      ],
      "execution_count": null,
      "outputs": []
    },
    {
      "cell_type": "markdown",
      "metadata": {
        "id": "cptrMtzC6-0d"
      },
      "source": [
        "## Question 1 (40 pts)\n",
        "\n",
        "First, create instances of the data generator as `train_gen`, `val_gen`, and `test_gen`.\n",
        "\n",
        "Then, develop a recurrent neural network with one `SimpleRNN` layer. For this question, include 128 units in the `SimpleRNN` layer. \n",
        "\n",
        "Compile this model using the `Adam` optimizer and change the learning rate to `0.0001`. Use the appropriate loss function for this problem. During the training process, follow mean absolute percentage error or the `mape` metric on the train and validation sets. This will give you the percentage error for your stock price predictions. \n",
        "\n",
        "Train your RNN model for 50 epochs. Given that our data generator creates batches of data indefinitely, we will have to tell Keras how many training (validation) batches constitute one training (validation) epoch. To do so, use `steps_per_epoch=20` and `validation_steps=14`. \n",
        "\n",
        "Evaluate your trained RNN model on the test set. In `model.evaluate`, use `steps=14` to designate 14 batches of data as one test epoch. What is the mean absolute percentage error on the test set? "
      ]
    },
    {
      "cell_type": "code",
      "metadata": {
        "id": "PtLwJw34VVxo",
        "colab": {
          "base_uri": "https://localhost:8080/",
          "height": 51
        },
        "outputId": "3a21a270-54bd-4546-9a47-67c79e7cce69"
      },
      "source": [
        "lookback = 60\n",
        "step = 1\n",
        "delay = 5\n",
        "batch_size = 64\n",
        "target_index = 3 # Predicting close price\n",
        "\n",
        "train_gen = generator(float_data,\n",
        "                      lookback=lookback,\n",
        "                      delay=delay,\n",
        "                      min_index=0,\n",
        "                      max_index=2000,\n",
        "                      shuffle=True,\n",
        "                      step=step, \n",
        "                      batch_size=batch_size,\n",
        "                      target_index=target_index)\n",
        "\n",
        "val_gen = generator(float_data,\n",
        "                    lookback=lookback,\n",
        "                    delay=delay,\n",
        "                    min_index=2001,\n",
        "                    max_index=3000,\n",
        "                    shuffle=False,\n",
        "                    step=step,\n",
        "                    batch_size=batch_size,\n",
        "                    target_index=target_index)\n",
        "\n",
        "test_gen = generator(float_data,\n",
        "                     lookback=lookback,\n",
        "                     delay=delay,\n",
        "                     min_index=3001,\n",
        "                     max_index=None,\n",
        "                     shuffle=False,\n",
        "                     step=step,\n",
        "                     batch_size=batch_size,\n",
        "                     target_index=target_index)\n",
        "\n",
        "\n",
        "# This is how many steps to draw from `val_gen`\n",
        "# in order to see the whole validation set:\n",
        "val_steps = (3000 - 2001 - lookback) // batch_size\n",
        "\n",
        "# This is how many steps to draw from `test_gen`\n",
        "# in order to see the whole test set:\n",
        "test_steps = (len(float_data) - 3001 - lookback) // batch_size\n",
        "\n",
        "\n",
        "print(val_steps)\n",
        "print(test_steps)"
      ],
      "execution_count": null,
      "outputs": [
        {
          "output_type": "stream",
          "text": [
            "14\n",
            "14\n"
          ],
          "name": "stdout"
        }
      ]
    },
    {
      "cell_type": "code",
      "metadata": {
        "id": "IW3cf170YMum",
        "colab": {
          "base_uri": "https://localhost:8080/",
          "height": 1000
        },
        "outputId": "d96d6c3d-b357-48ce-bff5-9e8f53c64a41"
      },
      "source": [
        "from tensorflow.keras import models\n",
        "from tensorflow.keras import layers\n",
        "from tensorflow.keras import optimizers\n",
        "\n",
        "model1 = models.Sequential()\n",
        "model1.add(layers.SimpleRNN(128))\n",
        "model1.add(layers.Dense(1))\n",
        "\n",
        "\n",
        "model1.compile(loss='mse', optimizer=optimizers.Adam(learning_rate=0.0001),  metrics=['mape'])\n",
        "\n",
        "\n",
        "model1_history = model1.fit(train_gen,\n",
        "                            steps_per_epoch=20,\n",
        "                            epochs=50,\n",
        "                            validation_data=val_gen,\n",
        "                            validation_steps = 14)"
      ],
      "execution_count": null,
      "outputs": [
        {
          "output_type": "stream",
          "text": [
            "Epoch 1/50\n",
            "20/20 [==============================] - 1s 52ms/step - loss: 2.2068e-04 - mape: 81.5354 - val_loss: 6.1343e-04 - val_mape: 12.8955\n",
            "Epoch 2/50\n",
            "20/20 [==============================] - 1s 32ms/step - loss: 2.2989e-05 - mape: 19.2908 - val_loss: 4.4619e-04 - val_mape: 11.0193\n",
            "Epoch 3/50\n",
            "20/20 [==============================] - 1s 35ms/step - loss: 1.8281e-05 - mape: 14.8826 - val_loss: 3.4396e-04 - val_mape: 10.0159\n",
            "Epoch 4/50\n",
            "20/20 [==============================] - 1s 32ms/step - loss: 1.5219e-05 - mape: 12.6120 - val_loss: 4.2601e-04 - val_mape: 11.6471\n",
            "Epoch 5/50\n",
            "20/20 [==============================] - 1s 32ms/step - loss: 1.3188e-05 - mape: 12.0690 - val_loss: 3.3401e-04 - val_mape: 9.9915\n",
            "Epoch 6/50\n",
            "20/20 [==============================] - 1s 32ms/step - loss: 1.2572e-05 - mape: 11.7531 - val_loss: 3.0741e-04 - val_mape: 9.6690\n",
            "Epoch 7/50\n",
            "20/20 [==============================] - 1s 31ms/step - loss: 1.1566e-05 - mape: 11.6244 - val_loss: 2.6704e-04 - val_mape: 9.0311\n",
            "Epoch 8/50\n",
            "20/20 [==============================] - 1s 33ms/step - loss: 1.1253e-05 - mape: 11.7731 - val_loss: 3.1306e-04 - val_mape: 9.8508\n",
            "Epoch 9/50\n",
            "20/20 [==============================] - 1s 33ms/step - loss: 1.1366e-05 - mape: 11.2803 - val_loss: 3.6821e-04 - val_mape: 10.7397\n",
            "Epoch 10/50\n",
            "20/20 [==============================] - 1s 33ms/step - loss: 9.8018e-06 - mape: 10.9753 - val_loss: 2.9735e-04 - val_mape: 9.4377\n",
            "Epoch 11/50\n",
            "20/20 [==============================] - 1s 32ms/step - loss: 9.0624e-06 - mape: 10.4934 - val_loss: 3.3574e-04 - val_mape: 10.1163\n",
            "Epoch 12/50\n",
            "20/20 [==============================] - 1s 31ms/step - loss: 1.0494e-05 - mape: 11.1216 - val_loss: 3.4794e-04 - val_mape: 10.5217\n",
            "Epoch 13/50\n",
            "20/20 [==============================] - 1s 32ms/step - loss: 9.1866e-06 - mape: 10.7980 - val_loss: 3.6424e-04 - val_mape: 10.5767\n",
            "Epoch 14/50\n",
            "20/20 [==============================] - 1s 32ms/step - loss: 1.0973e-05 - mape: 10.5139 - val_loss: 3.1585e-04 - val_mape: 9.9087\n",
            "Epoch 15/50\n",
            "20/20 [==============================] - 1s 34ms/step - loss: 8.2190e-06 - mape: 10.5905 - val_loss: 2.9369e-04 - val_mape: 9.6291\n",
            "Epoch 16/50\n",
            "20/20 [==============================] - 1s 31ms/step - loss: 9.0289e-06 - mape: 10.7790 - val_loss: 2.8572e-04 - val_mape: 9.3244\n",
            "Epoch 17/50\n",
            "20/20 [==============================] - 1s 33ms/step - loss: 1.0450e-05 - mape: 10.1451 - val_loss: 2.3965e-04 - val_mape: 8.6151\n",
            "Epoch 18/50\n",
            "20/20 [==============================] - 1s 33ms/step - loss: 9.6022e-06 - mape: 11.1026 - val_loss: 3.2522e-04 - val_mape: 10.2781\n",
            "Epoch 19/50\n",
            "20/20 [==============================] - 1s 34ms/step - loss: 9.9410e-06 - mape: 11.6940 - val_loss: 4.1817e-04 - val_mape: 11.5940\n",
            "Epoch 20/50\n",
            "20/20 [==============================] - 1s 34ms/step - loss: 9.8771e-06 - mape: 11.0307 - val_loss: 3.0589e-04 - val_mape: 9.8879\n",
            "Epoch 21/50\n",
            "20/20 [==============================] - 1s 34ms/step - loss: 9.5596e-06 - mape: 10.2818 - val_loss: 2.7122e-04 - val_mape: 9.3393\n",
            "Epoch 22/50\n",
            "20/20 [==============================] - 1s 32ms/step - loss: 8.5460e-06 - mape: 10.3230 - val_loss: 2.6584e-04 - val_mape: 9.1859\n",
            "Epoch 23/50\n",
            "20/20 [==============================] - 1s 33ms/step - loss: 8.1496e-06 - mape: 9.9551 - val_loss: 2.2597e-04 - val_mape: 8.4283\n",
            "Epoch 24/50\n",
            "20/20 [==============================] - 1s 32ms/step - loss: 9.6916e-06 - mape: 11.7459 - val_loss: 2.6413e-04 - val_mape: 8.9700\n",
            "Epoch 25/50\n",
            "20/20 [==============================] - 1s 31ms/step - loss: 7.6161e-06 - mape: 10.0315 - val_loss: 3.5163e-04 - val_mape: 10.2042\n",
            "Epoch 26/50\n",
            "20/20 [==============================] - 1s 32ms/step - loss: 8.3655e-06 - mape: 9.9908 - val_loss: 1.8050e-04 - val_mape: 7.8594\n",
            "Epoch 27/50\n",
            "20/20 [==============================] - 1s 32ms/step - loss: 9.7730e-06 - mape: 11.3280 - val_loss: 2.1089e-04 - val_mape: 8.1401\n",
            "Epoch 28/50\n",
            "20/20 [==============================] - 1s 33ms/step - loss: 8.1768e-06 - mape: 9.6224 - val_loss: 2.4373e-04 - val_mape: 8.6001\n",
            "Epoch 29/50\n",
            "20/20 [==============================] - 1s 33ms/step - loss: 9.8193e-06 - mape: 11.0725 - val_loss: 1.7903e-04 - val_mape: 7.8204\n",
            "Epoch 30/50\n",
            "20/20 [==============================] - 1s 31ms/step - loss: 9.5711e-06 - mape: 13.4174 - val_loss: 2.5455e-04 - val_mape: 8.8429\n",
            "Epoch 31/50\n",
            "20/20 [==============================] - 1s 31ms/step - loss: 9.7405e-06 - mape: 10.5015 - val_loss: 2.8995e-04 - val_mape: 9.4725\n",
            "Epoch 32/50\n",
            "20/20 [==============================] - 1s 31ms/step - loss: 6.5800e-06 - mape: 10.4551 - val_loss: 2.5829e-04 - val_mape: 8.9076\n",
            "Epoch 33/50\n",
            "20/20 [==============================] - 1s 31ms/step - loss: 7.3390e-06 - mape: 9.4118 - val_loss: 2.4203e-04 - val_mape: 8.6559\n",
            "Epoch 34/50\n",
            "20/20 [==============================] - 1s 32ms/step - loss: 7.1968e-06 - mape: 9.9604 - val_loss: 2.2361e-04 - val_mape: 8.4507\n",
            "Epoch 35/50\n",
            "20/20 [==============================] - 1s 33ms/step - loss: 7.7568e-06 - mape: 9.5949 - val_loss: 2.5350e-04 - val_mape: 8.9001\n",
            "Epoch 36/50\n",
            "20/20 [==============================] - 1s 31ms/step - loss: 6.8065e-06 - mape: 9.4136 - val_loss: 2.8236e-04 - val_mape: 9.3299\n",
            "Epoch 37/50\n",
            "20/20 [==============================] - 1s 31ms/step - loss: 6.8317e-06 - mape: 8.6526 - val_loss: 2.7889e-04 - val_mape: 9.3379\n",
            "Epoch 38/50\n",
            "20/20 [==============================] - 1s 31ms/step - loss: 7.9438e-06 - mape: 9.8501 - val_loss: 1.7772e-04 - val_mape: 7.6852\n",
            "Epoch 39/50\n",
            "20/20 [==============================] - 1s 32ms/step - loss: 7.2419e-06 - mape: 9.3763 - val_loss: 2.1285e-04 - val_mape: 8.2478\n",
            "Epoch 40/50\n",
            "20/20 [==============================] - 1s 31ms/step - loss: 6.7677e-06 - mape: 9.8058 - val_loss: 2.6025e-04 - val_mape: 9.2406\n",
            "Epoch 41/50\n",
            "20/20 [==============================] - 1s 31ms/step - loss: 6.9304e-06 - mape: 9.3579 - val_loss: 3.5123e-04 - val_mape: 10.8367\n",
            "Epoch 42/50\n",
            "20/20 [==============================] - 1s 33ms/step - loss: 9.3860e-06 - mape: 11.5114 - val_loss: 2.6070e-04 - val_mape: 9.2217\n",
            "Epoch 43/50\n",
            "20/20 [==============================] - 1s 30ms/step - loss: 7.4367e-06 - mape: 9.1135 - val_loss: 3.2589e-04 - val_mape: 10.4105\n",
            "Epoch 44/50\n",
            "20/20 [==============================] - 1s 32ms/step - loss: 7.0773e-06 - mape: 9.9068 - val_loss: 2.0889e-04 - val_mape: 8.2017\n",
            "Epoch 45/50\n",
            "20/20 [==============================] - 1s 32ms/step - loss: 6.8989e-06 - mape: 9.3558 - val_loss: 2.2849e-04 - val_mape: 8.3781\n",
            "Epoch 46/50\n",
            "20/20 [==============================] - 1s 33ms/step - loss: 6.2971e-06 - mape: 8.8681 - val_loss: 1.9337e-04 - val_mape: 7.8136\n",
            "Epoch 47/50\n",
            "20/20 [==============================] - 1s 32ms/step - loss: 7.8829e-06 - mape: 10.0914 - val_loss: 2.4448e-04 - val_mape: 8.8120\n",
            "Epoch 48/50\n",
            "20/20 [==============================] - 1s 32ms/step - loss: 5.7019e-06 - mape: 9.0478 - val_loss: 2.8570e-04 - val_mape: 9.6488\n",
            "Epoch 49/50\n",
            "20/20 [==============================] - 1s 33ms/step - loss: 6.3853e-06 - mape: 9.0243 - val_loss: 2.8882e-04 - val_mape: 9.8363\n",
            "Epoch 50/50\n",
            "20/20 [==============================] - 1s 34ms/step - loss: 7.2666e-06 - mape: 9.8825 - val_loss: 2.3021e-04 - val_mape: 8.4123\n"
          ],
          "name": "stdout"
        }
      ]
    },
    {
      "cell_type": "code",
      "metadata": {
        "id": "B2IRx6NVltI3",
        "colab": {
          "base_uri": "https://localhost:8080/",
          "height": 51
        },
        "outputId": "6c8ab44a-a1d9-4914-dfbe-9a01b9aef6c5"
      },
      "source": [
        "model1.evaluate(test_gen, steps=14)"
      ],
      "execution_count": null,
      "outputs": [
        {
          "output_type": "stream",
          "text": [
            "14/14 [==============================] - 0s 13ms/step - loss: 0.0182 - mape: 20.0083\n"
          ],
          "name": "stdout"
        },
        {
          "output_type": "execute_result",
          "data": {
            "text/plain": [
              "[0.01822907291352749, 20.00826644897461]"
            ]
          },
          "metadata": {
            "tags": []
          },
          "execution_count": 30
        }
      ]
    },
    {
      "cell_type": "markdown",
      "metadata": {
        "id": "u4UeuJQqlyqO"
      },
      "source": [
        "Mean Absolute Percentage Error of the test set is **20.0083**\n"
      ]
    },
    {
      "cell_type": "markdown",
      "metadata": {
        "id": "gDpsSuT3_Xpn"
      },
      "source": [
        "## Question 2 (40 pts)\n",
        "\n",
        "Develop a recurrent neural network with one `LSTM` layer. For this question, include 128 units in the `LSTM` layer. \n",
        "\n",
        "Compile this model using the `Adam` optimizer and change the learning rate to `0.0001`. Use the appropriate loss function for this problem. During the training process, follow mean absolute percentage error or the `mape` metric on the train and validation sets. This will give you the percentage error for your stock price predictions. \n",
        "\n",
        "Train your LSTM model for 50 epochs. Given that our data generator creates batches of data indefinitely, we will have to tell Keras how many training (validation) batches constitute one training (validation) epoch. To do so, use `steps_per_epoch=20` and `validation_steps=14`. \n",
        "\n",
        "Evaluate your trained LSTM model on the test set. In `model.evaluate`, use `steps=14` to designate 14 batches of data as one test epoch. What is the mean absolute percentage error on the test set? "
      ]
    },
    {
      "cell_type": "code",
      "metadata": {
        "id": "uNmitV1wmXRi",
        "colab": {
          "base_uri": "https://localhost:8080/",
          "height": 1000
        },
        "outputId": "0b3d1bda-df10-4401-f69e-fef4fe0aeafa"
      },
      "source": [
        "model2 = models.Sequential()\n",
        "model2.add(layers.LSTM(128, input_shape=(lookback // step, 4)))\n",
        "model2.add(layers.Dense(1))\n",
        "\n",
        "model2.compile(loss='mse', optimizer=optimizers.Adam(learning_rate=0.0001),  metrics=['mape'])\n",
        "\n",
        "\n",
        "model2_history = model2.fit(train_gen,\n",
        "                            steps_per_epoch=20,\n",
        "                            epochs=50,\n",
        "                            validation_data=val_gen,\n",
        "                            validation_steps=14)\n",
        "\n"
      ],
      "execution_count": null,
      "outputs": [
        {
          "output_type": "stream",
          "text": [
            "Epoch 1/50\n",
            "20/20 [==============================] - 3s 137ms/step - loss: 2.7594e-04 - mape: 88.9370 - val_loss: 0.0046 - val_mape: 44.9093\n",
            "Epoch 2/50\n",
            "20/20 [==============================] - 3s 159ms/step - loss: 9.7148e-05 - mape: 86.3286 - val_loss: 0.0024 - val_mape: 33.4708\n",
            "Epoch 3/50\n",
            "20/20 [==============================] - 4s 207ms/step - loss: 2.6911e-05 - mape: 34.5630 - val_loss: 3.2699e-04 - val_mape: 10.7793\n",
            "Epoch 4/50\n",
            "20/20 [==============================] - 5s 233ms/step - loss: 9.4309e-06 - mape: 11.5153 - val_loss: 1.5801e-04 - val_mape: 7.5298\n",
            "Epoch 5/50\n",
            "20/20 [==============================] - 3s 130ms/step - loss: 1.0751e-05 - mape: 10.0240 - val_loss: 1.6076e-04 - val_mape: 7.6351\n",
            "Epoch 6/50\n",
            "20/20 [==============================] - 2s 113ms/step - loss: 9.1858e-06 - mape: 9.8958 - val_loss: 1.6155e-04 - val_mape: 7.6296\n",
            "Epoch 7/50\n",
            "20/20 [==============================] - 2s 116ms/step - loss: 7.0985e-06 - mape: 9.5781 - val_loss: 1.5536e-04 - val_mape: 7.4705\n",
            "Epoch 8/50\n",
            "20/20 [==============================] - 2s 116ms/step - loss: 7.9108e-06 - mape: 9.0762 - val_loss: 1.5627e-04 - val_mape: 7.4991\n",
            "Epoch 9/50\n",
            "20/20 [==============================] - 2s 116ms/step - loss: 1.1851e-05 - mape: 9.7122 - val_loss: 1.9959e-04 - val_mape: 8.3947\n",
            "Epoch 10/50\n",
            "20/20 [==============================] - 2s 116ms/step - loss: 1.1527e-05 - mape: 11.7230 - val_loss: 1.7350e-04 - val_mape: 7.8526\n",
            "Epoch 11/50\n",
            "20/20 [==============================] - 2s 114ms/step - loss: 1.0389e-05 - mape: 10.1695 - val_loss: 1.6731e-04 - val_mape: 7.7400\n",
            "Epoch 12/50\n",
            "20/20 [==============================] - 2s 116ms/step - loss: 9.1583e-06 - mape: 10.2508 - val_loss: 1.6354e-04 - val_mape: 7.6262\n",
            "Epoch 13/50\n",
            "20/20 [==============================] - 2s 115ms/step - loss: 8.5854e-06 - mape: 9.9351 - val_loss: 1.5132e-04 - val_mape: 7.3508\n",
            "Epoch 14/50\n",
            "20/20 [==============================] - 2s 115ms/step - loss: 9.0657e-06 - mape: 9.1333 - val_loss: 1.5736e-04 - val_mape: 7.4976\n",
            "Epoch 15/50\n",
            "20/20 [==============================] - 2s 116ms/step - loss: 8.7353e-06 - mape: 9.7744 - val_loss: 1.5821e-04 - val_mape: 7.4969\n",
            "Epoch 16/50\n",
            "20/20 [==============================] - 2s 117ms/step - loss: 8.4904e-06 - mape: 9.1914 - val_loss: 1.5401e-04 - val_mape: 7.4026\n",
            "Epoch 17/50\n",
            "20/20 [==============================] - 2s 112ms/step - loss: 9.7960e-06 - mape: 9.3682 - val_loss: 1.6370e-04 - val_mape: 7.5869\n",
            "Epoch 18/50\n",
            "20/20 [==============================] - 2s 115ms/step - loss: 9.4869e-06 - mape: 10.2512 - val_loss: 1.5395e-04 - val_mape: 7.3843\n",
            "Epoch 19/50\n",
            "20/20 [==============================] - 2s 115ms/step - loss: 8.4901e-06 - mape: 9.3823 - val_loss: 1.4851e-04 - val_mape: 7.2611\n",
            "Epoch 20/50\n",
            "20/20 [==============================] - 2s 115ms/step - loss: 1.0989e-05 - mape: 10.4457 - val_loss: 1.6069e-04 - val_mape: 7.4447\n",
            "Epoch 21/50\n",
            "20/20 [==============================] - 2s 117ms/step - loss: 9.3187e-06 - mape: 12.9990 - val_loss: 1.4476e-04 - val_mape: 7.1467\n",
            "Epoch 22/50\n",
            "20/20 [==============================] - 2s 115ms/step - loss: 1.0038e-05 - mape: 10.6125 - val_loss: 1.5286e-04 - val_mape: 7.2933\n",
            "Epoch 23/50\n",
            "20/20 [==============================] - 2s 116ms/step - loss: 8.4347e-06 - mape: 10.5367 - val_loss: 1.4281e-04 - val_mape: 7.0883\n",
            "Epoch 24/50\n",
            "20/20 [==============================] - 2s 113ms/step - loss: 9.3753e-06 - mape: 9.8351 - val_loss: 1.5423e-04 - val_mape: 7.3336\n",
            "Epoch 25/50\n",
            "20/20 [==============================] - 2s 113ms/step - loss: 9.1551e-06 - mape: 9.6235 - val_loss: 1.4952e-04 - val_mape: 7.2327\n",
            "Epoch 26/50\n",
            "20/20 [==============================] - 2s 111ms/step - loss: 7.9468e-06 - mape: 9.3170 - val_loss: 1.4142e-04 - val_mape: 7.0401\n",
            "Epoch 27/50\n",
            "20/20 [==============================] - 2s 112ms/step - loss: 7.9872e-06 - mape: 9.0719 - val_loss: 1.4186e-04 - val_mape: 7.0524\n",
            "Epoch 28/50\n",
            "20/20 [==============================] - 2s 115ms/step - loss: 8.8357e-06 - mape: 8.8863 - val_loss: 1.6871e-04 - val_mape: 7.6531\n",
            "Epoch 29/50\n",
            "20/20 [==============================] - 2s 115ms/step - loss: 7.7735e-06 - mape: 10.7423 - val_loss: 1.4505e-04 - val_mape: 7.1092\n",
            "Epoch 30/50\n",
            "20/20 [==============================] - 2s 114ms/step - loss: 8.0182e-06 - mape: 9.3554 - val_loss: 1.4237e-04 - val_mape: 7.0442\n",
            "Epoch 31/50\n",
            "20/20 [==============================] - 2s 115ms/step - loss: 8.4711e-06 - mape: 10.2928 - val_loss: 1.6460e-04 - val_mape: 7.5696\n",
            "Epoch 32/50\n",
            "20/20 [==============================] - 2s 114ms/step - loss: 7.6580e-06 - mape: 9.6248 - val_loss: 1.5176e-04 - val_mape: 7.2606\n",
            "Epoch 33/50\n",
            "20/20 [==============================] - 2s 117ms/step - loss: 8.5420e-06 - mape: 9.1496 - val_loss: 1.4504e-04 - val_mape: 7.1151\n",
            "Epoch 34/50\n",
            "20/20 [==============================] - 2s 115ms/step - loss: 9.2975e-06 - mape: 9.9413 - val_loss: 1.6791e-04 - val_mape: 7.6202\n",
            "Epoch 35/50\n",
            "20/20 [==============================] - 2s 115ms/step - loss: 6.8866e-06 - mape: 9.6951 - val_loss: 1.3482e-04 - val_mape: 6.8014\n",
            "Epoch 36/50\n",
            "20/20 [==============================] - 2s 115ms/step - loss: 6.6983e-06 - mape: 8.3227 - val_loss: 1.3886e-04 - val_mape: 6.9272\n",
            "Epoch 37/50\n",
            "20/20 [==============================] - 2s 114ms/step - loss: 7.0819e-06 - mape: 9.2055 - val_loss: 1.3631e-04 - val_mape: 6.8505\n",
            "Epoch 38/50\n",
            "20/20 [==============================] - 2s 116ms/step - loss: 7.6669e-06 - mape: 9.3494 - val_loss: 1.3849e-04 - val_mape: 6.9257\n",
            "Epoch 39/50\n",
            "20/20 [==============================] - 2s 115ms/step - loss: 6.8610e-06 - mape: 9.5124 - val_loss: 1.4418e-04 - val_mape: 7.0416\n",
            "Epoch 40/50\n",
            "20/20 [==============================] - 2s 116ms/step - loss: 9.4279e-06 - mape: 9.4257 - val_loss: 1.4438e-04 - val_mape: 7.0547\n",
            "Epoch 41/50\n",
            "20/20 [==============================] - 2s 115ms/step - loss: 8.5095e-06 - mape: 10.0787 - val_loss: 1.4570e-04 - val_mape: 7.1068\n",
            "Epoch 42/50\n",
            "20/20 [==============================] - 2s 117ms/step - loss: 8.4797e-06 - mape: 9.4137 - val_loss: 1.3216e-04 - val_mape: 6.7072\n",
            "Epoch 43/50\n",
            "20/20 [==============================] - 2s 115ms/step - loss: 6.2104e-06 - mape: 9.2925 - val_loss: 1.3093e-04 - val_mape: 6.6418\n",
            "Epoch 44/50\n",
            "20/20 [==============================] - 2s 116ms/step - loss: 8.3782e-06 - mape: 8.8833 - val_loss: 1.3717e-04 - val_mape: 6.8302\n",
            "Epoch 45/50\n",
            "20/20 [==============================] - 2s 116ms/step - loss: 8.5785e-06 - mape: 9.8214 - val_loss: 1.2985e-04 - val_mape: 6.6306\n",
            "Epoch 46/50\n",
            "20/20 [==============================] - 2s 116ms/step - loss: 7.6992e-06 - mape: 10.2483 - val_loss: 1.6594e-04 - val_mape: 7.5709\n",
            "Epoch 47/50\n",
            "20/20 [==============================] - 2s 116ms/step - loss: 7.1383e-06 - mape: 9.7280 - val_loss: 1.4004e-04 - val_mape: 6.8984\n",
            "Epoch 48/50\n",
            "20/20 [==============================] - 2s 117ms/step - loss: 6.9140e-06 - mape: 8.7012 - val_loss: 1.3827e-04 - val_mape: 6.8486\n",
            "Epoch 49/50\n",
            "20/20 [==============================] - 2s 114ms/step - loss: 6.8638e-06 - mape: 8.8937 - val_loss: 1.3810e-04 - val_mape: 6.8458\n",
            "Epoch 50/50\n",
            "20/20 [==============================] - 2s 116ms/step - loss: 6.8288e-06 - mape: 8.7039 - val_loss: 1.3278e-04 - val_mape: 6.6935\n"
          ],
          "name": "stdout"
        }
      ]
    },
    {
      "cell_type": "code",
      "metadata": {
        "id": "L5v0943TxneZ",
        "colab": {
          "base_uri": "https://localhost:8080/",
          "height": 51
        },
        "outputId": "be131da4-d1f7-4103-dcb6-4f802aa2b91d"
      },
      "source": [
        "model2.evaluate(test_gen, steps=14)"
      ],
      "execution_count": null,
      "outputs": [
        {
          "output_type": "stream",
          "text": [
            "14/14 [==============================] - 0s 33ms/step - loss: 0.0029 - mape: 7.1322\n"
          ],
          "name": "stdout"
        },
        {
          "output_type": "execute_result",
          "data": {
            "text/plain": [
              "[0.0029249440412968397, 7.132241249084473]"
            ]
          },
          "metadata": {
            "tags": []
          },
          "execution_count": 32
        }
      ]
    },
    {
      "cell_type": "markdown",
      "metadata": {
        "id": "IYKWyi9b3Nfh"
      },
      "source": [
        "Mean Absolute Percentage Error of the test set is **7.1322**"
      ]
    },
    {
      "cell_type": "markdown",
      "metadata": {
        "id": "PC2vOr_UBHEp"
      },
      "source": [
        "## Question 3 (20 pts)\n",
        "\n",
        "Your goal in this question is to employ your deep learning knowledge to improve your LSTM model. You can play with hyperparameters, stack LSTM layers, add dropout and recurrent dropout, alter the learning rate, try another optimizer such as `rmsprop`, and anything else that you think might help improve (i.e., decrease) the percentage error of your model. This is an open-ended question that aims to give you some experience with training a good deep learning model for a real-world problem. What you do in this exercise is called 'hyperparameter tuning'; this is usually the most time-consuming and the most expensive part of a deep learning project. In a sense, deep learning is babysitting a number of hyperparameters. \n",
        "\n",
        "You do not need to show all of your work here. Please only include one model as your final model here. Explain (in words) what were some of the things that you tried and whether they were helpful to decrease the MAPE. "
      ]
    },
    {
      "cell_type": "code",
      "metadata": {
        "id": "jHQW6Pey341-",
        "colab": {
          "base_uri": "https://localhost:8080/",
          "height": 302
        },
        "outputId": "463cd716-ac48-46bb-cd80-ab49d3ea7cb2"
      },
      "source": [
        "import seaborn as sns\n",
        "sns.set()\n",
        "\n",
        "train_loss2 = model2_history.history['loss']\n",
        "train_mape2 = model2_history.history['mape']\n",
        "val_loss2 = model2_history.history['val_loss']\n",
        "val_mape2 = model2_history.history['val_mape']\n",
        "\n",
        "epochs = range(1, len(train_loss2) + 1)\n",
        "\n",
        "plt.plot(epochs, train_loss2, label = 'Training Loss')\n",
        "plt.plot(epochs, val_loss2, label = 'Validation Loss')\n",
        "plt.xlabel('Epochs')\n",
        "plt.ylabel('Loss')\n",
        "plt.legend()"
      ],
      "execution_count": null,
      "outputs": [
        {
          "output_type": "execute_result",
          "data": {
            "text/plain": [
              "<matplotlib.legend.Legend at 0x7fb594255588>"
            ]
          },
          "metadata": {
            "tags": []
          },
          "execution_count": 97
        },
        {
          "output_type": "display_data",
          "data": {
            "image/png": "[encoded data removed]",
            "text/plain": [
              "<Figure size 432x288 with 1 Axes>"
            ]
          },
          "metadata": {
            "tags": []
          }
        }
      ]
    },
    {
      "cell_type": "code",
      "metadata": {
        "id": "Ejzv2uSRUys-",
        "colab": {
          "base_uri": "https://localhost:8080/",
          "height": 302
        },
        "outputId": "22ec4c63-0dc2-47ff-f836-bb5fc1a63ddb"
      },
      "source": [
        "plt.plot(epochs[3: ], train_loss2[3: ], label = 'Training Loss')\n",
        "plt.plot(epochs[3: ], val_loss2[3: ], label = 'Validation Loss')\n",
        "plt.xlabel('Epochs')\n",
        "plt.ylabel('Loss')\n",
        "plt.legend()"
      ],
      "execution_count": null,
      "outputs": [
        {
          "output_type": "execute_result",
          "data": {
            "text/plain": [
              "<matplotlib.legend.Legend at 0x7fb59444a358>"
            ]
          },
          "metadata": {
            "tags": []
          },
          "execution_count": 98
        },
        {
          "output_type": "display_data",
          "data": {
            "image/png": "[encoded data removed]",
            "text/plain": [
              "<Figure size 432x288 with 1 Axes>"
            ]
          },
          "metadata": {
            "tags": []
          }
        }
      ]
    },
    {
      "cell_type": "code",
      "metadata": {
        "id": "nCmxpxWfVAi-",
        "colab": {
          "base_uri": "https://localhost:8080/",
          "height": 302
        },
        "outputId": "a7c46d5f-b653-4c4d-c744-772c146c5cd8"
      },
      "source": [
        "plt.plot(epochs, train_mape2, label = 'Training MAPE')\n",
        "plt.plot(epochs, val_mape2, label = 'Validation MAPE')\n",
        "plt.xlabel('Epochs')\n",
        "plt.ylabel('MAPE')\n",
        "plt.legend()"
      ],
      "execution_count": null,
      "outputs": [
        {
          "output_type": "execute_result",
          "data": {
            "text/plain": [
              "<matplotlib.legend.Legend at 0x7fb5941c7940>"
            ]
          },
          "metadata": {
            "tags": []
          },
          "execution_count": 99
        },
        {
          "output_type": "display_data",
          "data": {
            "image/png": "[encoded data removed]",
            "text/plain": [
              "<Figure size 432x288 with 1 Axes>"
            ]
          },
          "metadata": {
            "tags": []
          }
        }
      ]
    },
    {
      "cell_type": "code",
      "metadata": {
        "id": "DLzut8BfIKWe",
        "colab": {
          "base_uri": "https://localhost:8080/",
          "height": 302
        },
        "outputId": "2da8d69e-65a6-40f3-f63a-b2737f6e7309"
      },
      "source": [
        "plt.plot(epochs[3:], train_mape2[3:], label = 'Training MAPE')\n",
        "plt.plot(epochs[3:], val_mape2[3:], label = 'Validation MAPE')\n",
        "plt.xlabel('Epochs')\n",
        "plt.ylabel('MAPE')\n",
        "plt.legend()"
      ],
      "execution_count": null,
      "outputs": [
        {
          "output_type": "execute_result",
          "data": {
            "text/plain": [
              "<matplotlib.legend.Legend at 0x7fb594376c18>"
            ]
          },
          "metadata": {
            "tags": []
          },
          "execution_count": 100
        },
        {
          "output_type": "display_data",
          "data": {
            "image/png": "[encoded data removed]",
            "text/plain": [
              "<Figure size 432x288 with 1 Axes>"
            ]
          },
          "metadata": {
            "tags": []
          }
        }
      ]
    },
    {
      "cell_type": "markdown",
      "metadata": {
        "id": "Uonj1PCxJJkE"
      },
      "source": [
        "I do not think that the model is overfitting because training and validation loss do not diverge. They are still converging but very slowly. The model is suffering from underfitting. One way to solve this issue is adding more hidden layers and increasing number of neurons in the network. So I will try that. \n",
        "\n"
      ]
    },
    {
      "cell_type": "code",
      "metadata": {
        "id": "C1QtjsGAIgMy",
        "colab": {
          "base_uri": "https://localhost:8080/",
          "height": 1000
        },
        "outputId": "afc2834e-d1ff-4e34-d9b9-636ff0b8fa60"
      },
      "source": [
        "model3 = models.Sequential()\n",
        "model3.add(layers.LSTM(128, return_sequences=True, input_shape=(lookback // step, 4)))\n",
        "model3.add(layers.LSTM(128, return_sequences=True))\n",
        "model3.add(layers.LSTM(128))\n",
        "\n",
        "model3.add(layers.Dense(1))\n",
        "\n",
        "model3.compile(loss='mse', optimizer=optimizers.RMSprop(learning_rate=0.001),  metrics=['mape'])\n",
        "\n",
        "\n",
        "model3_history = model3.fit(train_gen,\n",
        "                            steps_per_epoch=20,\n",
        "                            epochs=50,\n",
        "                            validation_data=val_gen,\n",
        "                            validation_steps=14)\n"
      ],
      "execution_count": null,
      "outputs": [
        {
          "output_type": "stream",
          "text": [
            "Epoch 1/50\n",
            "20/20 [==============================] - 11s 537ms/step - loss: 0.0013 - mape: 167.5538 - val_loss: 0.0041 - val_mape: 49.5114\n",
            "Epoch 2/50\n",
            "20/20 [==============================] - 9s 460ms/step - loss: 1.0519e-04 - mape: 86.4002 - val_loss: 0.0021 - val_mape: 34.3023\n",
            "Epoch 3/50\n",
            "20/20 [==============================] - 9s 459ms/step - loss: 1.2622e-04 - mape: 101.3061 - val_loss: 0.0015 - val_mape: 28.1270\n",
            "Epoch 4/50\n",
            "20/20 [==============================] - 9s 452ms/step - loss: 9.5023e-05 - mape: 85.8233 - val_loss: 0.0054 - val_mape: 55.6530\n",
            "Epoch 5/50\n",
            "20/20 [==============================] - 9s 459ms/step - loss: 1.0501e-04 - mape: 84.9104 - val_loss: 0.0025 - val_mape: 37.7788\n",
            "Epoch 6/50\n",
            "20/20 [==============================] - 9s 466ms/step - loss: 8.7828e-05 - mape: 64.2028 - val_loss: 3.5447e-04 - val_mape: 13.1518\n",
            "Epoch 7/50\n",
            "20/20 [==============================] - 9s 463ms/step - loss: 7.5629e-05 - mape: 74.3523 - val_loss: 0.0039 - val_mape: 45.5996\n",
            "Epoch 8/50\n",
            "20/20 [==============================] - 9s 460ms/step - loss: 4.9023e-05 - mape: 52.9469 - val_loss: 1.8799e-04 - val_mape: 8.9770\n",
            "Epoch 9/50\n",
            "20/20 [==============================] - 9s 460ms/step - loss: 4.6607e-05 - mape: 48.6387 - val_loss: 2.5723e-04 - val_mape: 9.1007\n",
            "Epoch 10/50\n",
            "20/20 [==============================] - 9s 470ms/step - loss: 5.2883e-05 - mape: 60.8677 - val_loss: 2.2516e-04 - val_mape: 9.6972\n",
            "Epoch 11/50\n",
            "20/20 [==============================] - 9s 457ms/step - loss: 5.2404e-05 - mape: 50.0255 - val_loss: 5.1719e-04 - val_mape: 14.4364\n",
            "Epoch 12/50\n",
            "20/20 [==============================] - 9s 462ms/step - loss: 2.5046e-05 - mape: 40.4026 - val_loss: 1.6825e-04 - val_mape: 7.4263\n",
            "Epoch 13/50\n",
            "20/20 [==============================] - 9s 467ms/step - loss: 3.4596e-05 - mape: 41.9452 - val_loss: 2.3067e-04 - val_mape: 8.4048\n",
            "Epoch 14/50\n",
            "20/20 [==============================] - 9s 467ms/step - loss: 3.3011e-05 - mape: 39.3647 - val_loss: 3.1133e-04 - val_mape: 11.7948\n",
            "Epoch 15/50\n",
            "20/20 [==============================] - 9s 463ms/step - loss: 4.3075e-05 - mape: 47.6907 - val_loss: 1.5591e-04 - val_mape: 7.2113\n",
            "Epoch 16/50\n",
            "20/20 [==============================] - 9s 467ms/step - loss: 2.4375e-05 - mape: 32.1055 - val_loss: 2.9616e-04 - val_mape: 11.0020\n",
            "Epoch 17/50\n",
            "20/20 [==============================] - 9s 463ms/step - loss: 2.9997e-05 - mape: 43.2484 - val_loss: 1.3431e-04 - val_mape: 6.7029\n",
            "Epoch 18/50\n",
            "20/20 [==============================] - 9s 458ms/step - loss: 2.5719e-05 - mape: 38.0827 - val_loss: 1.2171e-04 - val_mape: 6.5737\n",
            "Epoch 19/50\n",
            "20/20 [==============================] - 9s 454ms/step - loss: 2.9068e-05 - mape: 34.2167 - val_loss: 8.3055e-04 - val_mape: 19.9869\n",
            "Epoch 20/50\n",
            "20/20 [==============================] - 9s 452ms/step - loss: 2.8712e-05 - mape: 48.6480 - val_loss: 2.3171e-04 - val_mape: 9.3519\n",
            "Epoch 21/50\n",
            "20/20 [==============================] - 9s 452ms/step - loss: 2.5251e-05 - mape: 37.0846 - val_loss: 1.5766e-04 - val_mape: 7.5324\n",
            "Epoch 22/50\n",
            "20/20 [==============================] - 9s 469ms/step - loss: 1.9361e-05 - mape: 29.8742 - val_loss: 1.1889e-04 - val_mape: 6.4310\n",
            "Epoch 23/50\n",
            "20/20 [==============================] - 9s 462ms/step - loss: 1.9233e-05 - mape: 34.9359 - val_loss: 5.2764e-04 - val_mape: 12.9383\n",
            "Epoch 24/50\n",
            "20/20 [==============================] - 9s 456ms/step - loss: 2.4374e-05 - mape: 32.9815 - val_loss: 2.4451e-04 - val_mape: 9.7998\n",
            "Epoch 25/50\n",
            "20/20 [==============================] - 9s 454ms/step - loss: 1.6608e-05 - mape: 25.7974 - val_loss: 2.4330e-04 - val_mape: 8.6285\n",
            "Epoch 26/50\n",
            "20/20 [==============================] - 9s 456ms/step - loss: 2.3328e-05 - mape: 33.9446 - val_loss: 4.8709e-04 - val_mape: 14.0562\n",
            "Epoch 27/50\n",
            "20/20 [==============================] - 10s 508ms/step - loss: 2.4585e-05 - mape: 32.9257 - val_loss: 1.1209e-04 - val_mape: 6.3556\n",
            "Epoch 28/50\n",
            "20/20 [==============================] - 14s 681ms/step - loss: 1.5992e-05 - mape: 29.6056 - val_loss: 3.0405e-04 - val_mape: 10.4849\n",
            "Epoch 29/50\n",
            "20/20 [==============================] - 9s 454ms/step - loss: 2.2155e-05 - mape: 32.8162 - val_loss: 1.5879e-04 - val_mape: 6.7429\n",
            "Epoch 30/50\n",
            "20/20 [==============================] - 9s 455ms/step - loss: 1.4535e-05 - mape: 27.0299 - val_loss: 2.9210e-04 - val_mape: 8.8764\n",
            "Epoch 31/50\n",
            "20/20 [==============================] - 9s 455ms/step - loss: 2.0089e-05 - mape: 30.9722 - val_loss: 1.0947e-04 - val_mape: 6.4528\n",
            "Epoch 32/50\n",
            "20/20 [==============================] - 9s 459ms/step - loss: 1.5526e-05 - mape: 32.5574 - val_loss: 2.2911e-04 - val_mape: 7.8944\n",
            "Epoch 33/50\n",
            "20/20 [==============================] - 9s 471ms/step - loss: 1.9232e-05 - mape: 24.9365 - val_loss: 2.1521e-04 - val_mape: 7.5137\n",
            "Epoch 34/50\n",
            "20/20 [==============================] - 9s 455ms/step - loss: 1.5633e-05 - mape: 30.1132 - val_loss: 0.0010 - val_mape: 20.4878\n",
            "Epoch 35/50\n",
            "20/20 [==============================] - 9s 459ms/step - loss: 1.7996e-05 - mape: 31.1765 - val_loss: 4.7965e-04 - val_mape: 13.2236\n",
            "Epoch 36/50\n",
            "20/20 [==============================] - 9s 456ms/step - loss: 1.9237e-05 - mape: 28.7784 - val_loss: 4.4346e-04 - val_mape: 12.3904\n",
            "Epoch 37/50\n",
            "20/20 [==============================] - 9s 457ms/step - loss: 1.4459e-05 - mape: 27.4929 - val_loss: 6.3674e-04 - val_mape: 15.3090\n",
            "Epoch 38/50\n",
            "20/20 [==============================] - 9s 470ms/step - loss: 1.6452e-05 - mape: 26.0609 - val_loss: 3.1442e-04 - val_mape: 9.9202\n",
            "Epoch 39/50\n",
            "20/20 [==============================] - 9s 469ms/step - loss: 1.2839e-05 - mape: 26.8999 - val_loss: 1.7684e-04 - val_mape: 6.8499\n",
            "Epoch 40/50\n",
            "20/20 [==============================] - 9s 471ms/step - loss: 1.4242e-05 - mape: 26.1123 - val_loss: 7.5196e-04 - val_mape: 16.9491\n",
            "Epoch 41/50\n",
            "20/20 [==============================] - 9s 473ms/step - loss: 1.6494e-05 - mape: 24.8976 - val_loss: 1.8628e-04 - val_mape: 7.0097\n",
            "Epoch 42/50\n",
            "20/20 [==============================] - 9s 466ms/step - loss: 1.5235e-05 - mape: 27.8176 - val_loss: 4.3649e-04 - val_mape: 11.5201\n",
            "Epoch 43/50\n",
            "20/20 [==============================] - 9s 475ms/step - loss: 1.4290e-05 - mape: 24.1974 - val_loss: 2.5791e-04 - val_mape: 7.9983\n",
            "Epoch 44/50\n",
            "20/20 [==============================] - 9s 473ms/step - loss: 1.6782e-05 - mape: 29.1385 - val_loss: 2.7941e-04 - val_mape: 8.2752\n",
            "Epoch 45/50\n",
            "20/20 [==============================] - 9s 474ms/step - loss: 1.1188e-05 - mape: 25.5776 - val_loss: 4.1192e-04 - val_mape: 10.1019\n",
            "Epoch 46/50\n",
            "20/20 [==============================] - 9s 473ms/step - loss: 1.2996e-05 - mape: 26.9726 - val_loss: 3.8425e-04 - val_mape: 9.7522\n",
            "Epoch 47/50\n",
            "20/20 [==============================] - 10s 476ms/step - loss: 1.4550e-05 - mape: 20.8562 - val_loss: 3.7842e-04 - val_mape: 9.5311\n",
            "Epoch 48/50\n",
            "20/20 [==============================] - 10s 485ms/step - loss: 1.1690e-05 - mape: 25.8276 - val_loss: 2.9693e-04 - val_mape: 8.4129\n",
            "Epoch 49/50\n",
            "20/20 [==============================] - 10s 482ms/step - loss: 1.4822e-05 - mape: 27.7789 - val_loss: 1.7857e-04 - val_mape: 7.0115\n",
            "Epoch 50/50\n",
            "20/20 [==============================] - 9s 471ms/step - loss: 1.5048e-05 - mape: 25.1169 - val_loss: 5.8959e-04 - val_mape: 13.1323\n"
          ],
          "name": "stdout"
        }
      ]
    },
    {
      "cell_type": "code",
      "metadata": {
        "id": "zOaZDvMXMhMT",
        "colab": {
          "base_uri": "https://localhost:8080/",
          "height": 302
        },
        "outputId": "893dd934-2a6e-487b-e7e2-6fa3ef2aea02"
      },
      "source": [
        "import seaborn as sns\n",
        "sns.set()\n",
        "\n",
        "model = model3\n",
        "model_history = model3_history\n",
        "\n",
        "\n",
        "train_loss = model_history.history['loss']\n",
        "train_mape = model_history.history['mape']\n",
        "val_loss = model_history.history['val_loss']\n",
        "val_mape = model_history.history['val_mape']\n",
        "\n",
        "epochs = range(1, len(train_loss) + 1)\n",
        "\n",
        "plt.plot(epochs[: ], train_loss[: ], label = 'Training Loss')\n",
        "plt.plot(epochs[: ], val_loss[: ], label = 'Validation Loss')\n",
        "plt.xlabel('Epochs')\n",
        "plt.ylabel('Loss')\n",
        "plt.legend()"
      ],
      "execution_count": null,
      "outputs": [
        {
          "output_type": "execute_result",
          "data": {
            "text/plain": [
              "<matplotlib.legend.Legend at 0x7fb5962326a0>"
            ]
          },
          "metadata": {
            "tags": []
          },
          "execution_count": 173
        },
        {
          "output_type": "display_data",
          "data": {
            "image/png": "[encoded data removed]",
            "text/plain": [
              "<Figure size 432x288 with 1 Axes>"
            ]
          },
          "metadata": {
            "tags": []
          }
        }
      ]
    },
    {
      "cell_type": "code",
      "metadata": {
        "id": "m3Pk2CSvZzRF",
        "colab": {
          "base_uri": "https://localhost:8080/",
          "height": 302
        },
        "outputId": "0b1cc0af-5ba9-4197-bad5-e8335f08c480"
      },
      "source": [
        "plt.plot(epochs[:], train_mape[:], label = 'Training MAPE')\n",
        "plt.plot(epochs[:], val_mape[:], label = 'Validation MAPE')\n",
        "plt.xlabel('Epochs')\n",
        "plt.ylabel('MAPE')\n",
        "plt.legend()"
      ],
      "execution_count": null,
      "outputs": [
        {
          "output_type": "execute_result",
          "data": {
            "text/plain": [
              "<matplotlib.legend.Legend at 0x7fb59638c6a0>"
            ]
          },
          "metadata": {
            "tags": []
          },
          "execution_count": 174
        },
        {
          "output_type": "display_data",
          "data": {
            "image/png": "[encoded data removed]",
            "text/plain": [
              "<Figure size 432x288 with 1 Axes>"
            ]
          },
          "metadata": {
            "tags": []
          }
        }
      ]
    },
    {
      "cell_type": "code",
      "metadata": {
        "id": "m7ytzqY9f3Tc",
        "colab": {
          "base_uri": "https://localhost:8080/",
          "height": 51
        },
        "outputId": "ef8ce7ae-711b-4583-99f9-1b1e1345ab8a"
      },
      "source": [
        "model.evaluate(test_gen, steps=14)"
      ],
      "execution_count": null,
      "outputs": [
        {
          "output_type": "stream",
          "text": [
            "14/14 [==============================] - 2s 128ms/step - loss: 0.0557 - mape: 38.9342\n"
          ],
          "name": "stdout"
        },
        {
          "output_type": "execute_result",
          "data": {
            "text/plain": [
              "[0.055717017501592636, 38.934226989746094]"
            ]
          },
          "metadata": {
            "tags": []
          },
          "execution_count": 175
        }
      ]
    },
    {
      "cell_type": "markdown",
      "metadata": {
        "id": "xE4jPY_3gGQK"
      },
      "source": [
        "\n",
        "\n",
        "\n",
        "<br>\n",
        "\n",
        "---\n",
        "\n",
        "\n",
        "Other strategies I used to check if MAPE on testing data decreases\n",
        "\n",
        "*   I tried changing learning rate to (0.01, 0.001, 0.00001), but saw little to almost no improvemet in MAPE of testing data. Which made sense since loss score of our model converges on training data. When taking learning rate of 0.001 there was slight improvement in MAPE of testing data. This maybe because, earlier our model was not converging because of small learning rate. \n",
        "\n",
        "*   I tried other combination of more hidden layers, high learning rate, more number of nodes, but all combinations kept performing poor. MAPE of training data was bouncing around 20 to 30. \n",
        "\n",
        "*  Finally found easy and simple way to improve learning rate which was only changing learning rate to 0.001 and keeping else same as in Question 2. \n"
      ]
    },
    {
      "cell_type": "code",
      "metadata": {
        "id": "snraUsUDggYq",
        "colab": {
          "base_uri": "https://localhost:8080/",
          "height": 1000
        },
        "outputId": "1eda28af-af8e-4ed3-d2c7-c8ba7bc6ec42"
      },
      "source": [
        "model4 = models.Sequential()\n",
        "model4.add(layers.LSTM(128, input_shape=(lookback // step, 4)))\n",
        "\n",
        "model4.add(layers.Dense(1))\n",
        "\n",
        "model4.compile(loss='mse', optimizer=optimizers.RMSprop(learning_rate=0.001),  metrics=['mape'])\n",
        "\n",
        "\n",
        "model4_history = model4.fit(train_gen,\n",
        "                            steps_per_epoch=20,\n",
        "                            epochs=50,\n",
        "                            validation_data=val_gen,\n",
        "                            validation_steps=14)\n"
      ],
      "execution_count": null,
      "outputs": [
        {
          "output_type": "stream",
          "text": [
            "Epoch 1/50\n",
            "20/20 [==============================] - 3s 139ms/step - loss: 1.8943e-04 - mape: 59.0028 - val_loss: 1.3407e-04 - val_mape: 6.8246\n",
            "Epoch 2/50\n",
            "20/20 [==============================] - 2s 119ms/step - loss: 3.4171e-05 - mape: 44.6539 - val_loss: 2.6523e-04 - val_mape: 11.0519\n",
            "Epoch 3/50\n",
            "20/20 [==============================] - 2s 119ms/step - loss: 5.0285e-05 - mape: 51.2036 - val_loss: 1.2120e-04 - val_mape: 6.5570\n",
            "Epoch 4/50\n",
            "20/20 [==============================] - 2s 120ms/step - loss: 2.5788e-05 - mape: 40.4796 - val_loss: 2.0295e-04 - val_mape: 9.3030\n",
            "Epoch 5/50\n",
            "20/20 [==============================] - 2s 120ms/step - loss: 2.3811e-05 - mape: 37.1098 - val_loss: 1.4597e-04 - val_mape: 6.7502\n",
            "Epoch 6/50\n",
            "20/20 [==============================] - 2s 121ms/step - loss: 2.1376e-05 - mape: 31.2721 - val_loss: 1.1303e-04 - val_mape: 5.9228\n",
            "Epoch 7/50\n",
            "20/20 [==============================] - 2s 120ms/step - loss: 1.8369e-05 - mape: 30.0706 - val_loss: 1.3880e-04 - val_mape: 6.8855\n",
            "Epoch 8/50\n",
            "20/20 [==============================] - 2s 120ms/step - loss: 1.5892e-05 - mape: 29.1068 - val_loss: 1.5459e-04 - val_mape: 7.4925\n",
            "Epoch 9/50\n",
            "20/20 [==============================] - 2s 120ms/step - loss: 1.9192e-05 - mape: 30.6367 - val_loss: 1.3079e-04 - val_mape: 6.4950\n",
            "Epoch 10/50\n",
            "20/20 [==============================] - 2s 120ms/step - loss: 1.1815e-05 - mape: 24.4327 - val_loss: 1.4559e-04 - val_mape: 7.1536\n",
            "Epoch 11/50\n",
            "20/20 [==============================] - 2s 121ms/step - loss: 1.6783e-05 - mape: 31.9537 - val_loss: 1.5784e-04 - val_mape: 7.7892\n",
            "Epoch 12/50\n",
            "20/20 [==============================] - 2s 120ms/step - loss: 1.4785e-05 - mape: 27.8369 - val_loss: 1.4319e-04 - val_mape: 6.6334\n",
            "Epoch 13/50\n",
            "20/20 [==============================] - 2s 121ms/step - loss: 1.1876e-05 - mape: 26.6804 - val_loss: 1.1061e-04 - val_mape: 5.8450\n",
            "Epoch 14/50\n",
            "20/20 [==============================] - 2s 121ms/step - loss: 1.2873e-05 - mape: 24.0990 - val_loss: 1.1564e-04 - val_mape: 6.0707\n",
            "Epoch 15/50\n",
            "20/20 [==============================] - 2s 120ms/step - loss: 1.2989e-05 - mape: 24.0797 - val_loss: 1.0647e-04 - val_mape: 5.6810\n",
            "Epoch 16/50\n",
            "20/20 [==============================] - 2s 120ms/step - loss: 1.3434e-05 - mape: 23.6197 - val_loss: 1.1541e-04 - val_mape: 6.2516\n",
            "Epoch 17/50\n",
            "20/20 [==============================] - 2s 121ms/step - loss: 1.4454e-05 - mape: 27.9653 - val_loss: 1.0461e-04 - val_mape: 5.8111\n",
            "Epoch 18/50\n",
            "20/20 [==============================] - 2s 122ms/step - loss: 1.0699e-05 - mape: 21.5147 - val_loss: 1.4709e-04 - val_mape: 7.6156\n",
            "Epoch 19/50\n",
            "20/20 [==============================] - 2s 121ms/step - loss: 1.2228e-05 - mape: 25.7641 - val_loss: 1.1601e-04 - val_mape: 6.2298\n",
            "Epoch 20/50\n",
            "20/20 [==============================] - 2s 120ms/step - loss: 1.1241e-05 - mape: 24.0516 - val_loss: 2.3780e-04 - val_mape: 10.1972\n",
            "Epoch 21/50\n",
            "20/20 [==============================] - 2s 121ms/step - loss: 1.3077e-05 - mape: 27.1839 - val_loss: 1.3843e-04 - val_mape: 7.2001\n",
            "Epoch 22/50\n",
            "20/20 [==============================] - 2s 122ms/step - loss: 9.2531e-06 - mape: 21.9319 - val_loss: 9.9536e-05 - val_mape: 5.4196\n",
            "Epoch 23/50\n",
            "20/20 [==============================] - 2s 122ms/step - loss: 1.0334e-05 - mape: 22.3575 - val_loss: 9.9480e-05 - val_mape: 5.3941\n",
            "Epoch 24/50\n",
            "20/20 [==============================] - 2s 121ms/step - loss: 1.0191e-05 - mape: 21.4846 - val_loss: 9.6040e-05 - val_mape: 5.3004\n",
            "Epoch 25/50\n",
            "20/20 [==============================] - 2s 121ms/step - loss: 1.2134e-05 - mape: 23.5343 - val_loss: 1.0799e-04 - val_mape: 5.7491\n",
            "Epoch 26/50\n",
            "20/20 [==============================] - 2s 119ms/step - loss: 1.2025e-05 - mape: 22.0666 - val_loss: 2.1780e-04 - val_mape: 9.5019\n",
            "Epoch 27/50\n",
            "20/20 [==============================] - 2s 120ms/step - loss: 1.1120e-05 - mape: 21.9184 - val_loss: 2.0395e-04 - val_mape: 9.4121\n",
            "Epoch 28/50\n",
            "20/20 [==============================] - 2s 123ms/step - loss: 9.8196e-06 - mape: 20.3351 - val_loss: 1.1189e-04 - val_mape: 5.8116\n",
            "Epoch 29/50\n",
            "20/20 [==============================] - 2s 121ms/step - loss: 1.1550e-05 - mape: 21.2018 - val_loss: 1.4253e-04 - val_mape: 6.9945\n",
            "Epoch 30/50\n",
            "20/20 [==============================] - 2s 121ms/step - loss: 1.0830e-05 - mape: 22.1833 - val_loss: 1.2522e-04 - val_mape: 6.3594\n",
            "Epoch 31/50\n",
            "20/20 [==============================] - 2s 122ms/step - loss: 1.0800e-05 - mape: 19.2939 - val_loss: 2.3618e-04 - val_mape: 10.0536\n",
            "Epoch 32/50\n",
            "20/20 [==============================] - 2s 122ms/step - loss: 9.8669e-06 - mape: 20.9087 - val_loss: 9.9218e-05 - val_mape: 5.5994\n",
            "Epoch 33/50\n",
            "20/20 [==============================] - 2s 121ms/step - loss: 8.2828e-06 - mape: 19.4835 - val_loss: 1.0139e-04 - val_mape: 5.5944\n",
            "Epoch 34/50\n",
            "20/20 [==============================] - 2s 121ms/step - loss: 8.8509e-06 - mape: 18.7772 - val_loss: 1.0131e-04 - val_mape: 5.4020\n",
            "Epoch 35/50\n",
            "20/20 [==============================] - 2s 121ms/step - loss: 1.1298e-05 - mape: 19.5160 - val_loss: 1.1028e-04 - val_mape: 5.9731\n",
            "Epoch 36/50\n",
            "20/20 [==============================] - 2s 121ms/step - loss: 9.6897e-06 - mape: 21.9356 - val_loss: 1.2341e-04 - val_mape: 6.4951\n",
            "Epoch 37/50\n",
            "20/20 [==============================] - 2s 119ms/step - loss: 1.0004e-05 - mape: 19.1996 - val_loss: 1.0875e-04 - val_mape: 5.8331\n",
            "Epoch 38/50\n",
            "20/20 [==============================] - 2s 123ms/step - loss: 9.9996e-06 - mape: 20.2798 - val_loss: 1.6633e-04 - val_mape: 8.0909\n",
            "Epoch 39/50\n",
            "20/20 [==============================] - 2s 122ms/step - loss: 9.6220e-06 - mape: 19.2273 - val_loss: 1.0460e-04 - val_mape: 5.7941\n",
            "Epoch 40/50\n",
            "20/20 [==============================] - 2s 121ms/step - loss: 9.8489e-06 - mape: 19.1998 - val_loss: 9.9983e-05 - val_mape: 5.3499\n",
            "Epoch 41/50\n",
            "20/20 [==============================] - 2s 121ms/step - loss: 8.8970e-06 - mape: 20.5807 - val_loss: 9.7769e-05 - val_mape: 5.3125\n",
            "Epoch 42/50\n",
            "20/20 [==============================] - 2s 122ms/step - loss: 6.9251e-06 - mape: 15.6755 - val_loss: 1.4517e-04 - val_mape: 7.2788\n",
            "Epoch 43/50\n",
            "20/20 [==============================] - 2s 122ms/step - loss: 9.1658e-06 - mape: 22.5057 - val_loss: 1.0171e-04 - val_mape: 5.5276\n",
            "Epoch 44/50\n",
            "20/20 [==============================] - 2s 121ms/step - loss: 9.4338e-06 - mape: 16.8415 - val_loss: 1.0201e-04 - val_mape: 5.5310\n",
            "Epoch 45/50\n",
            "20/20 [==============================] - 2s 121ms/step - loss: 7.1876e-06 - mape: 16.2635 - val_loss: 1.0118e-04 - val_mape: 5.4940\n",
            "Epoch 46/50\n",
            "20/20 [==============================] - 2s 123ms/step - loss: 8.8347e-06 - mape: 19.7273 - val_loss: 1.0664e-04 - val_mape: 5.6902\n",
            "Epoch 47/50\n",
            "20/20 [==============================] - 2s 122ms/step - loss: 9.6058e-06 - mape: 18.7157 - val_loss: 1.1271e-04 - val_mape: 6.1412\n",
            "Epoch 48/50\n",
            "20/20 [==============================] - 2s 119ms/step - loss: 8.4709e-06 - mape: 18.5428 - val_loss: 1.0857e-04 - val_mape: 5.7992\n",
            "Epoch 49/50\n",
            "20/20 [==============================] - 2s 119ms/step - loss: 9.2847e-06 - mape: 16.9788 - val_loss: 9.5954e-05 - val_mape: 5.2399\n",
            "Epoch 50/50\n",
            "20/20 [==============================] - 2s 121ms/step - loss: 9.3287e-06 - mape: 20.7021 - val_loss: 1.1202e-04 - val_mape: 5.9871\n"
          ],
          "name": "stdout"
        }
      ]
    },
    {
      "cell_type": "code",
      "metadata": {
        "id": "Lff-SRWbgsc1",
        "colab": {
          "base_uri": "https://localhost:8080/",
          "height": 51
        },
        "outputId": "92d05639-e601-40e5-b1fa-52bf7710105b"
      },
      "source": [
        "model4.evaluate(test_gen, steps=14)"
      ],
      "execution_count": null,
      "outputs": [
        {
          "output_type": "stream",
          "text": [
            "14/14 [==============================] - 1s 37ms/step - loss: 0.0016 - mape: 5.3913\n"
          ],
          "name": "stdout"
        },
        {
          "output_type": "execute_result",
          "data": {
            "text/plain": [
              "[0.0016027651727199554, 5.391254901885986]"
            ]
          },
          "metadata": {
            "tags": []
          },
          "execution_count": 162
        }
      ]
    },
    {
      "cell_type": "markdown",
      "metadata": {
        "id": "l8DxPRvmmZxG"
      },
      "source": [
        "Best solution I could find. "
      ]
    }
  ]
}